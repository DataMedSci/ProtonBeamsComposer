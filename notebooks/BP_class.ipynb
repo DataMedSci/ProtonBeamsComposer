{
 "cells": [
  {
   "cell_type": "code",
   "execution_count": 1,
   "metadata": {
    "collapsed": true
   },
   "outputs": [],
   "source": [
    "%matplotlib inline\n",
    "\n",
    "import logging\n",
    "\n",
    "import pandas as pd\n",
    "import numpy as np\n",
    "import matplotlib.pyplot as plt\n",
    "from scipy import interpolate\n",
    "\n",
    "logging.basicConfig(level=0)\n",
    "logger = logging.getLogger(__name__)"
   ]
  },
  {
   "cell_type": "code",
   "execution_count": 2,
   "metadata": {
    "collapsed": true
   },
   "outputs": [],
   "source": [
    "with open(\"bp.csv\", 'r') as bp_file:\n",
    "    data = pd.read_csv(bp_file, sep=';')\n",
    "\n",
    "x_peak = data[data.columns[0]].as_matrix()\n",
    "y_peak = data[data.columns[1]].as_matrix()"
   ]
  },
  {
   "cell_type": "code",
   "execution_count": 3,
   "metadata": {},
   "outputs": [
    {
     "name": "stdout",
     "output_type": "stream",
     "text": [
      "Positions: [ 12.  14.  18.  20.  24.  26.]\n",
      "Weights: [ 0.1    0.05   0.125  0.225  0.15   0.35 ] \n"
     ]
    }
   ],
   "source": [
    "# load file with positions and weights\n",
    "with open(\"pos.txt\", \"r\") as pos_file:\n",
    "    pos_we_data = pd.read_csv(pos_file, sep=';')\n",
    "\n",
    "positions = pos_we_data['position'].as_matrix()\n",
    "weights = pos_we_data['weight'].as_matrix()\n",
    "\n",
    "print(\"Positions: %s\" % positions)\n",
    "print(\"Weights: %s \" % weights)"
   ]
  },
  {
   "cell_type": "code",
   "execution_count": 4,
   "metadata": {
    "collapsed": true
   },
   "outputs": [],
   "source": [
    "class BraggPeak:\n",
    "    def __init__(self, bp_domain, bp_vals):\n",
    "        if len(bp_domain) != len(bp_vals):\n",
    "            raise ValueError(\"Domain and vals have different lenghts!\")\n",
    "        self.spline = interpolate.InterpolatedUnivariateSpline(bp_domain, bp_vals, ext=3)\n",
    "        self.initial_position = bp_domain[np.array(bp_vals).argmax()]\n",
    "        self.current_position = self.initial_position\n",
    "        self.weight = 1.0\n",
    "        logger.debug(\"Creating BraggPeak...\\nPrimary max position: %f\\n\"\n",
    "                     \"Calculated spline:\\n%s\"\n",
    "                     % (self.initial_position, self.spline))\n",
    "        \n",
    "    @property\n",
    "    def position(self):\n",
    "        return self.current_position\n",
    "    \n",
    "    @position.setter\n",
    "    def position(self, new_position):\n",
    "        self.current_position = new_position\n",
    "        \n",
    "    @property\n",
    "    def weight(self):\n",
    "        return self._weight\n",
    "    \n",
    "    @weight.setter\n",
    "    def weight(self, new_weight):\n",
    "        self._weight = new_weight\n",
    "        \n",
    "    def evaluate(self, x_arr):\n",
    "        return self._weight * self.spline(x_arr + self.initial_position - self.current_position)"
   ]
  },
  {
   "cell_type": "code",
   "execution_count": 5,
   "metadata": {},
   "outputs": [
    {
     "name": "stderr",
     "output_type": "stream",
     "text": [
      "DEBUG:__main__:Creating BraggPeak...\n",
      "Primary max position: 28.240000\n",
      "Calculated spline:\n",
      "<scipy.interpolate.fitpack2.InterpolatedUnivariateSpline object at 0x7fe8f3263438>\n"
     ]
    }
   ],
   "source": [
    "a = BraggPeak(x_peak, y_peak)"
   ]
  },
  {
   "cell_type": "code",
   "execution_count": 15,
   "metadata": {
    "collapsed": true
   },
   "outputs": [],
   "source": [
    "a.weight = .75\n",
    "a.position = 12.5"
   ]
  },
  {
   "cell_type": "code",
   "execution_count": 17,
   "metadata": {},
   "outputs": [
    {
     "data": {
      "text/plain": [
       "[<matplotlib.lines.Line2D at 0x7fe8ef6d2e10>]"
      ]
     },
     "execution_count": 17,
     "metadata": {},
     "output_type": "execute_result"
    },
    {
     "data": {
      "image/png": "[encoded data removed]",
      "text/plain": [
       "<matplotlib.figure.Figure at 0x7fe8ef751f98>"
      ]
     },
     "metadata": {},
     "output_type": "display_data"
    }
   ],
   "source": [
    "test_domain = np.arange(0, 30, .1)\n",
    "kle = a.evaluate(test_domain)\n",
    "plt.plot(test_domain, kle)"
   ]
  },
  {
   "cell_type": "code",
   "execution_count": 8,
   "metadata": {
    "collapsed": true
   },
   "outputs": [],
   "source": [
    "class SOBP:\n",
    "    def __init__(self, peak_list):\n",
    "        if not isinstance(peak_list, list) or not len(peak_list) > 0:\n",
    "            raise TypeError(\"List object required!\")\n",
    "        for peak in peak_list:\n",
    "            if not isinstance(peak, BraggPeak):\n",
    "                raise TypeError(\"Peak list should consist of BraggPeak objects!\")\n",
    "        self.component_peaks = peak_list\n",
    "    \n",
    "    def overall_sum(self, domain):\n",
    "        tmp_sobp = []\n",
    "        for peak in self.component_peaks:\n",
    "            tmp_peak = peak.evaluate(domain)\n",
    "            tmp_sobp.append(tmp_peak)\n",
    "        return sum(tmp_sobp)"
   ]
  },
  {
   "cell_type": "code",
   "execution_count": 18,
   "metadata": {},
   "outputs": [
    {
     "name": "stderr",
     "output_type": "stream",
     "text": [
      "DEBUG:__main__:Creating BraggPeak...\n",
      "Primary max position: 4.000000\n",
      "Calculated spline:\n",
      "<scipy.interpolate.fitpack2.InterpolatedUnivariateSpline object at 0x7fe8ef6e9358>\n"
     ]
    }
   ],
   "source": [
    "s = SOBP([a, BraggPeak([1, 2, 3, 4, 5],[.1, .2, .5, 1, .2])])"
   ]
  },
  {
   "cell_type": "code",
   "execution_count": 20,
   "metadata": {
    "collapsed": true
   },
   "outputs": [],
   "source": [
    "dom = np.arange(0, 30, .1)\n",
    "so = s.overall_sum(dom)"
   ]
  },
  {
   "cell_type": "code",
   "execution_count": 21,
   "metadata": {},
   "outputs": [
    {
     "data": {
      "text/plain": [
       "[<matplotlib.lines.Line2D at 0x7fe8ef665d30>]"
      ]
     },
     "execution_count": 21,
     "metadata": {},
     "output_type": "execute_result"
    },
    {
     "data": {
      "image/png": "[encoded data removed]",
      "text/plain": [
       "<matplotlib.figure.Figure at 0x7fe8ef6e9e10>"
      ]
     },
     "metadata": {},
     "output_type": "display_data"
    }
   ],
   "source": [
    "plt.plot(dom, so)"
   ]
  },
  {
   "cell_type": "code",
   "execution_count": 12,
   "metadata": {},
   "outputs": [
    {
     "name": "stderr",
     "output_type": "stream",
     "text": [
      "DEBUG:__main__:Creating BraggPeak...\n",
      "Primary max position: 28.240000\n",
      "Calculated spline:\n",
      "<scipy.interpolate.fitpack2.InterpolatedUnivariateSpline object at 0x7fe8ef92a1d0>\n",
      "DEBUG:__main__:Creating BraggPeak...\n",
      "Primary max position: 28.240000\n",
      "Calculated spline:\n",
      "<scipy.interpolate.fitpack2.InterpolatedUnivariateSpline object at 0x7fe8ef92a358>\n",
      "DEBUG:__main__:Creating BraggPeak...\n",
      "Primary max position: 28.240000\n",
      "Calculated spline:\n",
      "<scipy.interpolate.fitpack2.InterpolatedUnivariateSpline object at 0x7fe8ef882cc0>\n",
      "DEBUG:__main__:Creating BraggPeak...\n",
      "Primary max position: 28.240000\n",
      "Calculated spline:\n",
      "<scipy.interpolate.fitpack2.InterpolatedUnivariateSpline object at 0x7fe8f3154d68>\n"
     ]
    }
   ],
   "source": [
    "b = BraggPeak(x_peak, y_peak)\n",
    "b.position = 18.\n",
    "b.weight = .1\n",
    "\n",
    "c = BraggPeak(x_peak, y_peak)\n",
    "c.position = 19.5\n",
    "c.weight = .15\n",
    "\n",
    "d = BraggPeak(x_peak, y_peak)\n",
    "d.position = 21.\n",
    "d.weight = .20\n",
    "\n",
    "e = BraggPeak(x_peak, y_peak)\n",
    "e.position = 22.5\n",
    "e.weight = .55"
   ]
  },
  {
   "cell_type": "code",
   "execution_count": 13,
   "metadata": {
    "collapsed": true
   },
   "outputs": [],
   "source": [
    "inp_peaks = [b, c, d, e]\n",
    "test_sobp = SOBP(inp_peaks)"
   ]
  },
  {
   "cell_type": "code",
   "execution_count": 14,
   "metadata": {},
   "outputs": [
    {
     "data": {
      "text/plain": [
       "<matplotlib.legend.Legend at 0x7fe8ef8779b0>"
      ]
     },
     "execution_count": 14,
     "metadata": {},
     "output_type": "execute_result"
    },
    {
     "data": {
      "image/png": "[encoded data removed]",
      "text/plain": [
       "<matplotlib.figure.Figure at 0x7fe8ef8824e0>"
      ]
     },
     "metadata": {},
     "output_type": "display_data"
    }
   ],
   "source": [
    "test_domain = np.arange(15, 25, 0.1)\n",
    "plt.plot(test_domain, test_sobp.overall_sum(test_domain), label=\"sum\")\n",
    "for p in inp_peaks:\n",
    "    plt.plot(test_domain, p.evaluate(test_domain), label=p.position)\n",
    "plt.legend()"
   ]
  }
 ],
 "metadata": {
  "kernelspec": {
   "display_name": "Python 3",
   "language": "python",
   "name": "python3"
  },
  "language_info": {
   "codemirror_mode": {
    "name": "ipython",
    "version": 3
   },
   "file_extension": ".py",
   "mimetype": "text/x-python",
   "name": "python",
   "nbconvert_exporter": "python",
   "pygments_lexer": "ipython3",
   "version": "3.6.0"
  }
 },
 "nbformat": 4,
 "nbformat_minor": 1
}
